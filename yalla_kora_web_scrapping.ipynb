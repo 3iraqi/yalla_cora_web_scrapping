{
 "cells": [
  {
   "cell_type": "markdown",
   "metadata": {},
   "source": [
    "# Yalla Cora Web Scrapping"
   ]
  },
  {
   "cell_type": "markdown",
   "metadata": {},
   "source": [
    "\n",
    "## ⚠ Install required libraries using pip\n",
    "> just  `run` the cell below to `install` packages then `comment two lines` and `Run All`\n",
    "> \n",
    "> if you have requests, bs4 `installed` before you can `comment two line` and `Run All`"
   ]
  },
  {
   "cell_type": "code",
   "execution_count": 145,
   "metadata": {},
   "outputs": [],
   "source": [
    "! pip install requests\n",
    "! pip install bs4"
   ]
  },
  {
   "cell_type": "markdown",
   "metadata": {},
   "source": [
    "## Importing Packages"
   ]
  },
  {
   "cell_type": "code",
   "execution_count": 146,
   "metadata": {},
   "outputs": [],
   "source": [
    "import csv # csv is a built-in module in Python\n",
    "import requests  # pip install requests\n",
    "from bs4 import BeautifulSoup as Bs  # pip install beautifulsoup # pip install lxml\n"
   ]
  },
  {
   "cell_type": "code",
   "execution_count": 147,
   "metadata": {},
   "outputs": [],
   "source": [
    "# date = input(\"Enter The date eg. 'MM/dd/yyyy' : -> \") # Ask User\n",
    "date=\"12/14/2024\" \n",
    "page = requests.get(f\"https://www.yallakora.com/match-center/?date={date}\", timeout=20) # request the page data\n"
   ]
  },
  {
   "cell_type": "code",
   "execution_count": 1,
   "metadata": {},
   "outputs": [],
   "source": [
    "#get page data\n",
    "# page.content"
   ]
  },
  {
   "cell_type": "code",
   "execution_count": 149,
   "metadata": {},
   "outputs": [],
   "source": [
    "src = page.content\n",
    "soup = Bs(markup=src,features=\"lxml\") # lxml is a Beautiful Soup parser"
   ]
  },
  {
   "cell_type": "code",
   "execution_count": 150,
   "metadata": {},
   "outputs": [],
   "source": [
    "#soup"
   ]
  },
  {
   "cell_type": "code",
   "execution_count": 151,
   "metadata": {},
   "outputs": [],
   "source": [
    "matches_details = [] # data of matches\n",
    "champion_ships = soup.find_all(\"div\", {\"class\": \"matchCard\"})"
   ]
  },
  {
   "cell_type": "markdown",
   "metadata": {},
   "source": [
    "## in find() function you can write in two ways \n",
    ">> Show more details in | \n",
    ">[Beautiful Soup: find() ](https://beautiful-soup-4.readthedocs.io/en/latest/index.html?highlight=find)\n",
    "\n",
    "\n",
    " "
   ]
  },
  {
   "cell_type": "markdown",
   "metadata": {},
   "source": [
    "```python\n",
    "# First\n",
    "find(\"div\", {\"class\": \"MResult\"})\n",
    "match_result = all_matches[i].find(\"div\", {\"class\": \"MResult\"}).find_all(\"span\", {\"class\": \"score\"})\n",
    "# Second\n",
    "find(\"div\", class_=\"MResult\")\n",
    "match_result = all_matches[i].find(\"div\", class_=\"MResult\").find_all(\"span\", {\"class\": \"score\"})\n",
    "```"
   ]
  },
  {
   "cell_type": "code",
   "execution_count": 152,
   "metadata": {},
   "outputs": [],
   "source": [
    "def get_match_info(champion_ship):\n",
    "    champion_ship_title = (champion_ship.contents[1].find(\"h2\").text.strip())\n",
    "      \n",
    "    all_matches = champion_ship.contents[3].find_all(\"div\", {\"class\": \"liItem\"})\n",
    "    \n",
    "    number_of_matches = len(all_matches)\n",
    "    \n",
    "    # Get Matches Info to matches_details\n",
    "    for i in range(number_of_matches):\n",
    "        # Get Teams Name\n",
    "        team_a = all_matches[i].find(\"div\", {\"class\": \"teamA\"}).text.strip()\n",
    "        team_b = all_matches[i].find(\"div\", {\"class\": \"teamB\"},).text.strip()\n",
    "\n",
    "        \n",
    "        match_result = all_matches[i].find(\"div\", class_=\"MResult\").find_all(\"span\", {\"class\": \"score\"})\n",
    "        \n",
    "        # Get Score        \n",
    "        score = f\"({match_result[0].text.strip()} - {match_result[1].text.strip()})\"\n",
    "\n",
    "        # Ger Match time\n",
    "        match_time = all_matches[i].find(\"div\", {\"class\": \"MResult\"}).find(\"span\", \"time\").text.strip()\n",
    "\n",
    "        \n",
    "        # Add Matches Info to matches_details\n",
    "        matches_details.append(\n",
    "            {\n",
    "                \"اسم البطولة\": champion_ship_title,\n",
    "                \"الفريق الاول\": team_a,\n",
    "                \"الفريق الثاني\": team_b,\n",
    "                \"وقت المبارة\": match_time,\n",
    "                \"النتيجه\": score,\n",
    "            }\n",
    "        )\n",
    "        "
   ]
  },
  {
   "cell_type": "code",
   "execution_count": 153,
   "metadata": {},
   "outputs": [],
   "source": [
    "# Get Match Info From Each Championship\n",
    "for champion_ship in champion_ships:\n",
    "    get_match_info(champion_ship)\n"
   ]
  },
  {
   "cell_type": "markdown",
   "metadata": {},
   "source": [
    "## Save To CSV File\n",
    ">> CSV = Comma Separated Values\n",
    "```python \n",
    "with open()\n",
    "``` \n",
    "show more here:  [`python : file handling`](https://www.w3schools.com/python/python_file_handling.asp)"
   ]
  },
  {
   "cell_type": "code",
   "execution_count": 154,
   "metadata": {},
   "outputs": [
    {
     "name": "stdout",
     "output_type": "stream",
     "text": [
      " file Created: \n"
     ]
    }
   ],
   "source": [
    "keys = matches_details[0].keys()\n",
    "filename=f\"yallaCora/champion_details_{date.replace('/',\"_\")}.csv\"\n",
    "\n",
    "\n",
    "with open(filename, \"w\", encoding=\"utf-8-sig\", newline=\"\") as output_file:\n",
    "    dict_writer = csv.DictWriter(output_file, keys)\n",
    "    dict_writer.writeheader()\n",
    "    dict_writer.writerows(matches_details)\n",
    "    print(\" file Created: \")"
   ]
  },
  {
   "cell_type": "markdown",
   "metadata": {},
   "source": [
    "## create csv file with pandas"
   ]
  },
  {
   "cell_type": "code",
   "execution_count": 158,
   "metadata": {},
   "outputs": [],
   "source": [
    "import pandas as pd"
   ]
  },
  {
   "cell_type": "markdown",
   "metadata": {},
   "source": [
    "### first handle the data"
   ]
  },
  {
   "cell_type": "code",
   "execution_count": 167,
   "metadata": {},
   "outputs": [],
   "source": [
    "teamA_list,teamB_list,result_list,time_list  = [], [], [], []\n",
    "\n",
    "# fill the lists with data from matches_details\n",
    "for match in matches_details:\n",
    "    teamA_list.append(match[\"الفريق الاول\"])\n",
    "    teamB_list.append(match[\"الفريق الثاني\"])\n",
    "    result_list.append(match[\"النتيجه\"])\n",
    "    time_list.append(match[\"وقت المبارة\"])\n",
    "    \n",
    "\n",
    "    "
   ]
  },
  {
   "cell_type": "markdown",
   "metadata": {},
   "source": [
    "create csv file"
   ]
  },
  {
   "cell_type": "code",
   "execution_count": 166,
   "metadata": {},
   "outputs": [],
   "source": [
    "data_pd={\n",
    "    \"الفريق الاول\": teamA_list,\n",
    "    \"الفريق الثاني\": teamB_list,\n",
    "    \"النتيجه\": result_list,\n",
    "    \"وقت المبارة\": time_list\n",
    "}\n",
    "df = pd.DataFrame(data_pd)\n",
    "df.index = df.index+1\n",
    "df.to_csv(filename,sep=\",\",encoding=\"utf-8-sig\")\n"
   ]
  }
 ],
 "metadata": {
  "kernelspec": {
   "display_name": "base",
   "language": "python",
   "name": "python3"
  },
  "language_info": {
   "codemirror_mode": {
    "name": "ipython",
    "version": 3
   },
   "file_extension": ".py",
   "mimetype": "text/x-python",
   "name": "python",
   "nbconvert_exporter": "python",
   "pygments_lexer": "ipython3",
   "version": "3.12.7"
  }
 },
 "nbformat": 4,
 "nbformat_minor": 2
}
